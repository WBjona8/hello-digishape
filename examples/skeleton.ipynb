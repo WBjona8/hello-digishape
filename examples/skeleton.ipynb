{
 "cells": [
  {
   "cell_type": "markdown",
   "metadata": {},
   "source": [
    "# Skeleton example\n",
    "This is a skeleton file that can serve as a starting point for an example on how to use your Python script. This example has been created with Jupyter Notebook.\n",
    "\n",
    "<div class=\"alert alert-info\">\n",
    "\n",
    "Note\n",
    "\n",
    "This skeleton file can be safely removed if not needed!\n",
    "\n",
    "</div>\n",
    "\n",
    "<div class=\"alert alert-warning\">\n",
    "\n",
    "Warning\n",
    "\n",
    "Until there is an info/warning extension for Markdown/CommonMark (see [this issue](https://github.com/jupyter/notebook/issues/1292)), such boxes can be created by using HTML ``<div>`` elements like this. This is an experimental feature! Its usage will probably change in the future or it might be removed completely! While this works nicely with ``nbsphinx``, JupyterLab and the Classic Jupyter Notebook, This doesn’t work correctly in ``nbconvert``, by extension on <https://nbviewer.jupyter.org/>, and Github’s notebook preview.\n",
    "\n",
    "See for more information the ``nbsphinx`` [documenation](https://nbsphinx.readthedocs.io/en/0.8.9/markdown-cells.html#Info/Warning-Boxes).\n",
    "\n",
    "</div>\n"
   ]
  },
  {
   "cell_type": "markdown",
   "metadata": {},
   "source": [
    "See example below for using the skeleton."
   ]
  },
  {
   "cell_type": "code",
   "execution_count": null,
   "metadata": {},
   "outputs": [],
   "source": [
    "from test_esb.skeleton import fib\n",
    "n = 42\n",
    "print(\"The {}-th Fibonacci number is {}\".format(n, fib(n)))"
   ]
  }
 ],
 "metadata": {
  "kernelspec": {
   "display_name": "Python 3.7.13 ('templates')",
   "language": "python",
   "name": "python3"
  },
  "language_info": {
   "codemirror_mode": {
    "name": "ipython",
    "version": 3
   },
   "file_extension": ".py",
   "mimetype": "text/x-python",
   "name": "python",
   "nbconvert_exporter": "python",
   "pygments_lexer": "ipython3",
   "version": "3.7.13"
  },
  "orig_nbformat": 4,
  "vscode": {
   "interpreter": {
    "hash": "9925e7d9761d7bc3c6b1c69eea46e06543f6a2664a859d59083ab990f6a89168"
   }
  }
 },
 "nbformat": 4,
 "nbformat_minor": 2
}
